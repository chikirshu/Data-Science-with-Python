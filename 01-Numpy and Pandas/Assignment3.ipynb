{
 "cells": [
  {
   "cell_type": "markdown",
   "metadata": {},
   "source": [
    "\n",
    "# Evaluate the Summer Olympics, London 2012 dataset\n"
   ]
  },
  {
   "cell_type": "markdown",
   "metadata": {},
   "source": [
    "#### 1: View and add the dataset"
   ]
  },
  {
   "cell_type": "code",
   "execution_count": 1,
   "metadata": {},
   "outputs": [],
   "source": [
    "#Import the necessary library\n",
    "import numpy as np"
   ]
  },
  {
   "cell_type": "code",
   "execution_count": 11,
   "metadata": {},
   "outputs": [],
   "source": [
    "#Manually add the Summer Olympics, London 2012 dataset as arrays\n",
    "medal_tally_dict={'Country': ['Great Britain', 'China', 'Russia', 'United States', 'Korea', 'Japan', 'Germany'],\n",
    "                      'Country Code': ['GBR', 'CHN', 'RUS', 'US', 'KOR', 'JPN', 'GER'],\n",
    "                      'Year': [2012, 2012, 2012, 2012, 2012, 2012, 2012],\n",
    "                      'Gold': [29, 38, 24, 46, 13, 7, 11],\n",
    "                      'Silver': [17, 28, 25, 28, 8, 14, 11],\n",
    "                      'Bronze': [19, 22, 32, 29, 7, 17, 14]}\n",
    "medal_tally=np.array(medal_tally_dict)\n",
    "medal_tally_countries=np.array(medal_tally_dict['Country'])\n",
    "medal_tally_country_code=np.array(medal_tally_dict['Country Code'])\n",
    "medal_tally_gold=np.array(medal_tally_dict['Gold'])\n",
    "medal_tally_silver=np.array(medal_tally_dict['Silver'])\n",
    "medal_tally_bronze=np.array(medal_tally_dict['Bronze'])"
   ]
  },
  {
   "cell_type": "markdown",
   "metadata": {},
   "source": [
    "#### Find the country with maximum gold medals"
   ]
  },
  {
   "cell_type": "code",
   "execution_count": 12,
   "metadata": {},
   "outputs": [
    {
     "data": {
      "text/plain": [
       "46"
      ]
     },
     "execution_count": 12,
     "metadata": {},
     "output_type": "execute_result"
    }
   ],
   "source": [
    "#Use the argmax() method to find the highest number of gold medals\n",
    "max_gold=medal_tally_gold.argmax()\n",
    "medal_tally_gold[max_gold]"
   ]
  },
  {
   "cell_type": "code",
   "execution_count": 14,
   "metadata": {},
   "outputs": [
    {
     "name": "stdout",
     "output_type": "stream",
     "text": [
      "United States US\n"
     ]
    }
   ],
   "source": [
    "#Print the name of the country\n",
    "print(\"{} {}\".format(medal_tally_countries[max_gold],medal_tally_country_code[max_gold]))"
   ]
  },
  {
   "cell_type": "markdown",
   "metadata": {},
   "source": [
    "#### Find the countries with more than 20 gold medals"
   ]
  },
  {
   "cell_type": "code",
   "execution_count": 16,
   "metadata": {},
   "outputs": [
    {
     "data": {
      "text/plain": [
       "array(['GBR', 'CHN', 'RUS', 'US'], dtype='<U3')"
      ]
     },
     "execution_count": 16,
     "metadata": {},
     "output_type": "execute_result"
    }
   ],
   "source": [
    "#Use Boolean indexing technique to find the required output\n",
    "medal_tally_country_code[medal_tally_gold>20]"
   ]
  },
  {
   "cell_type": "markdown",
   "metadata": {},
   "source": [
    "#### Evaluate the dataset and print the name of each country with its gold medals and total number of medals"
   ]
  },
  {
   "cell_type": "code",
   "execution_count": 28,
   "metadata": {},
   "outputs": [
    {
     "name": "stdout",
     "output_type": "stream",
     "text": [
      "Country : GBR, Gold : 29, Total : 65\n",
      "Country : CHN, Gold : 38, Total : 88\n",
      "Country : RUS, Gold : 24, Total : 81\n",
      "Country : US, Gold : 46, Total : 103\n",
      "Country : KOR, Gold : 13, Total : 28\n",
      "Country : JPN, Gold : 7, Total : 38\n",
      "Country : GER, Gold : 11, Total : 36\n"
     ]
    }
   ],
   "source": [
    "#Use a for loop to create the required output\n",
    "for i in range(len(medal_tally_countries)):\n",
    "    total = medal_tally_gold[i]+medal_tally_silver[i]+medal_tally_bronze[i]\n",
    "    print(\"Country : {}, Gold : {}, Total : {}\".format(medal_tally_country_code[i],medal_tally_gold[i],total))"
   ]
  },
  {
   "cell_type": "code",
   "execution_count": null,
   "metadata": {},
   "outputs": [],
   "source": []
  }
 ],
 "metadata": {
  "kernelspec": {
   "display_name": "Python 3",
   "language": "python",
   "name": "python3"
  },
  "language_info": {
   "codemirror_mode": {
    "name": "ipython",
    "version": 3
   },
   "file_extension": ".py",
   "mimetype": "text/x-python",
   "name": "python",
   "nbconvert_exporter": "python",
   "pygments_lexer": "ipython3",
   "version": "3.7.1"
  }
 },
 "nbformat": 4,
 "nbformat_minor": 1
}
